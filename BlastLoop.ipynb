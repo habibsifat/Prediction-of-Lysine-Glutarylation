{
  "nbformat": 4,
  "nbformat_minor": 0,
  "metadata": {
    "colab": {
      "name": "BlastLoop.ipynb",
      "provenance": [],
      "collapsed_sections": [],
      "include_colab_link": true
    },
    "kernelspec": {
      "name": "python3",
      "display_name": "Python 3"
    }
  },
  "cells": [
    {
      "cell_type": "markdown",
      "metadata": {
        "id": "view-in-github",
        "colab_type": "text"
      },
      "source": [
        "<a href=\"https://colab.research.google.com/github/habibsifat/Prediction-of-Lysine-Glutarylation/blob/master/BlastLoop.ipynb\" target=\"_parent\"><img src=\"https://colab.research.google.com/assets/colab-badge.svg\" alt=\"Open In Colab\"/></a>"
      ]
    },
    {
      "cell_type": "code",
      "metadata": {
        "id": "huVedWehHc8I",
        "colab_type": "code",
        "outputId": "2c6a656f-ef8b-404c-cb6d-afa85128bbfb",
        "colab": {
          "base_uri": "https://localhost:8080/",
          "height": 35
        }
      },
      "source": [
        "!ls"
      ],
      "execution_count": 0,
      "outputs": [
        {
          "output_type": "stream",
          "text": [
            "sample_data\n"
          ],
          "name": "stdout"
        }
      ]
    },
    {
      "cell_type": "code",
      "metadata": {
        "id": "6iqPwZShHlnR",
        "colab_type": "code",
        "colab": {}
      },
      "source": [
        "import numpy as np\n",
        "import pandas as pd\n",
        "import sys\n",
        "import numpy.ma as ma\n",
        "list_vec = []\n",
        "file = 'PSSM.'\n",
        "\n",
        "for i in range(1, 5436):\n",
        "    num = str(i)\n",
        "    pos = file + num\n",
        "    \n",
        "    positive = []\n",
        "    with open(pos, 'r', encoding=\"utf-8\",errors='ignore') as f:\n",
        "        for line in f:\n",
        "            positive.append(line.split())\n",
        "    data = positive[2:-6]\n",
        "    positive[-7]\n",
        "    df = pd.DataFrame(data)\n",
        "    df.head()\n",
        "    df = df.iloc[1:,2:22]\n",
        "    XX = np.asarray(df)\n",
        "    YY = np.ascontiguousarray(XX, dtype=np.int32)\n",
        "    Transpose = YY.transpose()  #transpose pssm matrix [20*L]\n",
        "    M = np.zeros([Transpose.shape[0], Transpose.shape[1]])\n",
        "    for i in range(Transpose.shape[0]):\n",
        "        for j in range (Transpose.shape[1]):\n",
        "            M[i, j] = (Transpose[i,j] - np.mean(Transpose[i, :])) / np.std(Transpose[i, :])\n",
        "    transpose_M = M.transpose()\n",
        "    result = np.dot(M, transpose_M)\n",
        "    lower_tril = np.tril(result)\n",
        "    il1 = np.tril_indices(20)\n",
        "    remove_upper_value = lower_tril[il1]\n",
        "    Vector = np.ravel(remove_upper_value)\n",
        "    #my_vector = np.asarray(Vector)\n",
        "    #np.savetxt('Glutarylation.csv', [my_vector[:,i]], delimiter=',', fmt='%.18e')\n",
        "    list_vec.append(Vector)\n",
        "    \n",
        "np.savetxt('Glutarylation.csv', list_vec, fmt='%.18e')"
      ],
      "execution_count": 0,
      "outputs": []
    },
    {
      "cell_type": "code",
      "metadata": {
        "id": "TmecWUqmQjYL",
        "colab_type": "code",
        "colab": {}
      },
      "source": [
        "list_vec[5]"
      ],
      "execution_count": 0,
      "outputs": []
    }
  ]
}