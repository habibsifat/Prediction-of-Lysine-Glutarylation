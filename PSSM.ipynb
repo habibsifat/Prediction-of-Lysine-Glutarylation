{
  "nbformat": 4,
  "nbformat_minor": 0,
  "metadata": {
    "colab": {
      "name": "PSSM.ipynb",
      "provenance": [],
      "collapsed_sections": [],
      "include_colab_link": true
    },
    "kernelspec": {
      "name": "python3",
      "display_name": "Python 3"
    }
  },
  "cells": [
    {
      "cell_type": "markdown",
      "metadata": {
        "id": "view-in-github",
        "colab_type": "text"
      },
      "source": [
        "<a href=\"https://colab.research.google.com/github/habibsifat/Prediction-of-Lysine-Glutarylation/blob/master/PSSM.ipynb\" target=\"_parent\"><img src=\"https://colab.research.google.com/assets/colab-badge.svg\" alt=\"Open In Colab\"/></a>"
      ]
    },
    {
      "cell_type": "code",
      "metadata": {
        "id": "60lvntLi3e4O",
        "colab_type": "code",
        "colab": {}
      },
      "source": [
        "from numpy import *"
      ],
      "execution_count": 0,
      "outputs": []
    },
    {
      "cell_type": "code",
      "metadata": {
        "id": "j4E_vpcGlvHR",
        "colab_type": "code",
        "colab": {}
      },
      "source": [
        "!ls"
      ],
      "execution_count": 0,
      "outputs": []
    },
    {
      "cell_type": "code",
      "metadata": {
        "id": "RfZLN_Lul6p7",
        "colab_type": "code",
        "colab": {}
      },
      "source": [
        "pos = 'PSSM.1'\n",
        "mat = []\n",
        "with open(pos, 'r', encoding=\"utf-8\",errors='ignore') as f:\n",
        "    for line in f:\n",
        "        mat.append(line.split())"
      ],
      "execution_count": 0,
      "outputs": []
    },
    {
      "cell_type": "code",
      "metadata": {
        "id": "j_0d0T8WoQgQ",
        "colab_type": "code",
        "colab": {}
      },
      "source": [
        "len(mat)"
      ],
      "execution_count": 0,
      "outputs": []
    },
    {
      "cell_type": "code",
      "metadata": {
        "id": "symsFlbNsJB5",
        "colab_type": "code",
        "colab": {}
      },
      "source": [
        "del mat[0]"
      ],
      "execution_count": 0,
      "outputs": []
    },
    {
      "cell_type": "code",
      "metadata": {
        "id": "t_kYoFunmHOZ",
        "colab_type": "code",
        "colab": {}
      },
      "source": [
        "mat[14]"
      ],
      "execution_count": 0,
      "outputs": []
    },
    {
      "cell_type": "code",
      "metadata": {
        "id": "yTV2QGRusaxU",
        "colab_type": "code",
        "colab": {}
      },
      "source": [
        "len(mat)"
      ],
      "execution_count": 0,
      "outputs": []
    },
    {
      "cell_type": "code",
      "metadata": {
        "id": "lBgIkzjtmL3S",
        "colab_type": "code",
        "colab": {}
      },
      "source": [
        "for m in mat:\n",
        "  print(m)"
      ],
      "execution_count": 0,
      "outputs": []
    },
    {
      "cell_type": "code",
      "metadata": {
        "id": "dR7yN5o_0DzH",
        "colab_type": "code",
        "colab": {}
      },
      "source": [
        "ar = array(range(330), dtype=str).reshape(15,22)"
      ],
      "execution_count": 0,
      "outputs": []
    },
    {
      "cell_type": "code",
      "metadata": {
        "id": "cARAJKpE2cbK",
        "colab_type": "code",
        "colab": {}
      },
      "source": [
        "ar\n",
        "import numpy as np"
      ],
      "execution_count": 0,
      "outputs": []
    },
    {
      "cell_type": "code",
      "metadata": {
        "id": "sfSUtYTLoB-i",
        "colab_type": "code",
        "colab": {}
      },
      "source": [
        "f = open(\"mat.txt\", \"x\")\n",
        "f = open(\"mat.txt\", \"a\")\n",
        "\n",
        "for m in mat:\n",
        "  i=0\n",
        "  for m1 in m:\n",
        "    j=0\n",
        "    if i>1 and i<22:\n",
        "      print(m1+\" \",end='')\n",
        "      f.write(m1)\n",
        "      f.write(\" \")\n",
        "    i=i+1\n",
        "  print(\"\\n\")\n",
        "  f.write(\"\\n\")\n",
        "      \n",
        "f.close()"
      ],
      "execution_count": 0,
      "outputs": []
    },
    {
      "cell_type": "code",
      "metadata": {
        "id": "eM-p4RQqqs1p",
        "colab_type": "code",
        "colab": {}
      },
      "source": [
        "pos = 'mat.txt'\n",
        "mat = []\n",
        "with open(pos, 'r', encoding=\"utf-8\",errors='ignore') as f:\n",
        "    for line in f:\n",
        "        mat.append(line.split())"
      ],
      "execution_count": 0,
      "outputs": []
    },
    {
      "cell_type": "code",
      "metadata": {
        "id": "_UJL4FtMAmCx",
        "colab_type": "code",
        "colab": {}
      },
      "source": [
        "\n",
        "\n",
        "for row in mat : \n",
        "    print(row) \n",
        "rez = [[mat[j][i] for j in range(len(mat))] for i in range(len(mat[0]))] \n",
        "print(\"\\n\") \n",
        "for row in rez: \n",
        "    print(row) \n"
      ],
      "execution_count": 0,
      "outputs": []
    },
    {
      "cell_type": "code",
      "metadata": {
        "id": "KYWPXAwrDBMM",
        "colab_type": "code",
        "colab": {}
      },
      "source": [
        "for i in rez:\n",
        "    if i in mat:\n",
        "        #print \"found \" + i\n",
        "        rez.remove(i)"
      ],
      "execution_count": 0,
      "outputs": []
    },
    {
      "cell_type": "code",
      "metadata": {
        "id": "f1rkXFFJCiwW",
        "colab_type": "code",
        "colab": {}
      },
      "source": [
        "for row in mat: \n",
        "    print(row) "
      ],
      "execution_count": 0,
      "outputs": []
    },
    {
      "cell_type": "code",
      "metadata": {
        "id": "i355iDkrE_mC",
        "colab_type": "code",
        "colab": {}
      },
      "source": [
        "for row in rez: \n",
        "    print(row) "
      ],
      "execution_count": 0,
      "outputs": []
    },
    {
      "cell_type": "code",
      "metadata": {
        "id": "dKYIsIADFkvZ",
        "colab_type": "code",
        "colab": {}
      },
      "source": [
        "result = [[0 for x in range(20)] for y in range(20)]  \n",
        "  \n",
        "for i in range(len(mat)): \n",
        "  \n",
        "    # iterating by coloum by B  \n",
        "    for j in range(len(rez[0])): \n",
        "  \n",
        "        # iterating by rows of B \n",
        "        for k in range(len(rez)):\n",
        "            p=int(mat[i][k])\n",
        "            q=int(rez[k][j])\n",
        "            result[i][j] += p * q \n",
        "  \n",
        "for r in result: \n",
        "    print(r) "
      ],
      "execution_count": 0,
      "outputs": []
    },
    {
      "cell_type": "code",
      "metadata": {
        "id": "IRv0ligBtFn3",
        "colab_type": "code",
        "colab": {}
      },
      "source": [
        "for r in result: \n",
        "    print(r) "
      ],
      "execution_count": 0,
      "outputs": []
    },
    {
      "cell_type": "code",
      "metadata": {
        "id": "85FyrZm5thYQ",
        "colab_type": "code",
        "colab": {}
      },
      "source": [
        "p=1\n",
        "for i in result:\n",
        "  k=1\n",
        "  for j in i:\n",
        "    if k<p:\n",
        "      print(j,end='')\n",
        "      k=k+1\n",
        "  p=p+1\n",
        "  print(\"\\n\")"
      ],
      "execution_count": 0,
      "outputs": []
    },
    {
      "cell_type": "code",
      "metadata": {
        "id": "x5e9ZtCJul4l",
        "colab_type": "code",
        "colab": {}
      },
      "source": [
        "#Delete Upper Triangle\n",
        "a = np.array(result)\n",
        "ul=np.tril(a,k=0)"
      ],
      "execution_count": 0,
      "outputs": []
    },
    {
      "cell_type": "code",
      "metadata": {
        "id": "-QLpJeoKzqsM",
        "colab_type": "code",
        "colab": {}
      },
      "source": [
        "vec=np.ravel(ul)"
      ],
      "execution_count": 0,
      "outputs": []
    },
    {
      "cell_type": "code",
      "metadata": {
        "id": "kKJcYSrC37Pb",
        "colab_type": "code",
        "colab": {}
      },
      "source": [
        "vec"
      ],
      "execution_count": 0,
      "outputs": []
    }
  ]
}