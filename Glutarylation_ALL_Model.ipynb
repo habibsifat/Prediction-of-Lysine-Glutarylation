{
  "nbformat": 4,
  "nbformat_minor": 0,
  "metadata": {
    "colab": {
      "name": "Glutarylation_ALL_Model.ipynb",
      "provenance": [],
      "collapsed_sections": [
        "TZUeUNUAYhK9",
        "CaAVlxOsrLBu",
        "9PhQlHv4Fulh",
        "VQVsjhJUEx5l",
        "kCZJyZtkvnct",
        "YoK9vQFpngq_",
        "RrHClNsPnoxC",
        "LteNNLuinvs0",
        "X4pxpT-Kn6kg",
        "sQMp3BmOoFaU",
        "gB1_u7D9oI7P",
        "F-TiUqmIPmYQ",
        "cUiOcTmTSEXl"
      ],
      "toc_visible": true,
      "include_colab_link": true
    },
    "kernelspec": {
      "name": "python3",
      "display_name": "Python 3"
    }
  },
  "cells": [
    {
      "cell_type": "markdown",
      "metadata": {
        "id": "view-in-github",
        "colab_type": "text"
      },
      "source": [
        "<a href=\"https://colab.research.google.com/github/habibsifat/Prediction-of-Lysine-Glutarylation/blob/master/Glutarylation_ALL_Model.ipynb\" target=\"_parent\"><img src=\"https://colab.research.google.com/assets/colab-badge.svg\" alt=\"Open In Colab\"/></a>"
      ]
    },
    {
      "cell_type": "code",
      "metadata": {
        "id": "Jo2NO3sRZkGq",
        "colab_type": "code",
        "colab": {}
      },
      "source": [
        "from google.colab import drive\n",
        "drive.mount('/content/drive')"
      ],
      "execution_count": 0,
      "outputs": []
    },
    {
      "cell_type": "code",
      "metadata": {
        "id": "lZy6C67Fqodg",
        "colab_type": "code",
        "colab": {}
      },
      "source": [
        "# Import packages\n",
        "from sklearn.naive_bayes import GaussianNB\n",
        "from sklearn.model_selection import train_test_split\n",
        "from sklearn.metrics import confusion_matrix\n",
        "import numpy as np\n",
        "import pandas as pd\n",
        "import matplotlib.pyplot as plt\n",
        "import seaborn as sns; sns.set()\n",
        "import numpy\n",
        "import pandas as pd\n",
        "from sklearn.model_selection import train_test_split\n",
        "from sklearn.ensemble import RandomForestClassifier\n",
        "from sklearn.metrics import accuracy_score\n",
        "from sklearn.metrics import confusion_matrix\n",
        "from sklearn.tree import DecisionTreeClassifier"
      ],
      "execution_count": 0,
      "outputs": []
    },
    {
      "cell_type": "code",
      "metadata": {
        "id": "U15GiZsDZ2qq",
        "colab_type": "code",
        "outputId": "231c532c-8b77-4559-8ce9-b31cf08fb600",
        "colab": {
          "base_uri": "https://localhost:8080/",
          "height": 34
        }
      },
      "source": [
        "!ls \"/content/drive/My Drive/Colab Notebooks/BIO/Glutarylation(5).csv\""
      ],
      "execution_count": 0,
      "outputs": [
        {
          "output_type": "stream",
          "text": [
            "'/content/drive/My Drive/Colab Notebooks/BIO/Glutarylation(5).csv'\n"
          ],
          "name": "stdout"
        }
      ]
    },
    {
      "cell_type": "code",
      "metadata": {
        "id": "s6zlwsX-FXJe",
        "colab_type": "code",
        "colab": {}
      },
      "source": [
        "numpy.random.seed(0)\n",
        "dataset = numpy.loadtxt(\"/content/drive/My Drive/Colab Notebooks/BIO/Ind_combined.csv\", delimiter=\",\")\n",
        "# split into input (X) and output (Y) variables, splitting csv data\n",
        "IND_X_test = dataset[:,0:210]\n",
        "IND_Y_test= dataset[:,210]"
      ],
      "execution_count": 0,
      "outputs": []
    },
    {
      "cell_type": "code",
      "metadata": {
        "id": "dT3XrYqXFr7p",
        "colab_type": "code",
        "outputId": "5bf69833-d0a4-4552-e3b0-1fdaa8b5ebd4",
        "colab": {
          "base_uri": "https://localhost:8080/",
          "height": 68
        }
      },
      "source": [
        "print(dataset.shape)\n",
        "print(IND_X_test.shape)\n",
        "print(IND_Y_test.shape)"
      ],
      "execution_count": 0,
      "outputs": [
        {
          "output_type": "stream",
          "text": [
            "(136, 211)\n",
            "(136, 210)\n",
            "(136,)\n"
          ],
          "name": "stdout"
        }
      ]
    },
    {
      "cell_type": "code",
      "metadata": {
        "id": "ei-bA0e_xT1l",
        "colab_type": "code",
        "colab": {}
      },
      "source": [
        "numpy.random.seed(0)\n",
        "dataset = numpy.loadtxt(\"/content/drive/My Drive/Colab Notebooks/BIO/Glutarylation(5).csv\", delimiter=\",\")\n",
        "# split into input (X) and output (Y) variables, splitting csv data\n",
        "X1 = dataset[:,0:210]\n",
        "Y1 = dataset[:,210]"
      ],
      "execution_count": 0,
      "outputs": []
    },
    {
      "cell_type": "code",
      "metadata": {
        "id": "JxOP0N9bwwWL",
        "colab_type": "code",
        "outputId": "3b1a998d-3781-4431-d0fb-b5c4e718de42",
        "colab": {
          "base_uri": "https://localhost:8080/",
          "height": 68
        }
      },
      "source": [
        "print(dataset.shape)\n",
        "print(X1.shape)\n",
        "print(Y1.shape)"
      ],
      "execution_count": 0,
      "outputs": [
        {
          "output_type": "stream",
          "text": [
            "(5436, 211)\n",
            "(5436, 210)\n",
            "(5436,)\n"
          ],
          "name": "stdout"
        }
      ]
    },
    {
      "cell_type": "markdown",
      "metadata": {
        "id": "TZUeUNUAYhK9",
        "colab_type": "text"
      },
      "source": [
        "# Combination of over- and under-sampling"
      ]
    },
    {
      "cell_type": "code",
      "metadata": {
        "id": "63fX-NrQXhUD",
        "colab_type": "code",
        "colab": {}
      },
      "source": [
        ">>> from imblearn.combine import SMOTEENN\n",
        ">>> smote_enn = SMOTEENN(random_state=0)\n",
        ">>> X,Y = smote_enn.fit_resample(X1, Y1)"
      ],
      "execution_count": 0,
      "outputs": []
    },
    {
      "cell_type": "code",
      "metadata": {
        "id": "CXotZku2X-mB",
        "colab_type": "code",
        "outputId": "25853aa1-8ae9-4bd0-df5c-aebb422a5fe8",
        "colab": {
          "base_uri": "https://localhost:8080/",
          "height": 51
        }
      },
      "source": [
        "print(X.shape)\n",
        "print(Y.shape)"
      ],
      "execution_count": 0,
      "outputs": [
        {
          "output_type": "stream",
          "text": [
            "(6818, 210)\n",
            "(6818,)\n"
          ],
          "name": "stdout"
        }
      ]
    },
    {
      "cell_type": "code",
      "metadata": {
        "id": "PT2iN0miYt60",
        "colab_type": "code",
        "colab": {}
      },
      "source": [
        ">>> from imblearn.combine import SMOTETomek\n",
        ">>> smote_tomek = SMOTETomek(random_state=0)\n",
        ">>> X , Y = smote_tomek.fit_resample(X1, Y1)"
      ],
      "execution_count": 0,
      "outputs": []
    },
    {
      "cell_type": "code",
      "metadata": {
        "id": "MMgyuCdGY3y0",
        "colab_type": "code",
        "outputId": "9a0eb3de-3a61-4eb6-8fc6-3ad8722f8e80",
        "colab": {
          "base_uri": "https://localhost:8080/",
          "height": 54
        }
      },
      "source": [
        "print(X.shape)\n",
        "print(Y.shape)"
      ],
      "execution_count": 0,
      "outputs": [
        {
          "output_type": "stream",
          "text": [
            "(3770, 210)\n",
            "(3770,)\n"
          ],
          "name": "stdout"
        }
      ]
    },
    {
      "cell_type": "code",
      "metadata": {
        "id": "9Dou7jQCb_Hq",
        "colab_type": "code",
        "colab": {}
      },
      "source": [
        "#from sklearn.cross_validation import train_test_split\n",
        "from sklearn.model_selection import train_test_split\n",
        "X_train,X_test,Y_train,Y_test = train_test_split(X,Y,test_size=0.2,random_state=10)"
      ],
      "execution_count": 0,
      "outputs": []
    },
    {
      "cell_type": "code",
      "metadata": {
        "id": "s74JRiLI0VHQ",
        "colab_type": "code",
        "colab": {}
      },
      "source": [
        "colors = ['#ef8a62' if v == 0 else '#f7f7f7' if v == 1 else '#67a9cf' for v in Y1]\n",
        "plt.scatter(X1[:, 0], X1[:, 1], c=colors, linewidth=0.5, edgecolor='black')\n",
        "sns.despine()\n",
        "plt.title(\"Main Dataset ($n_{class}=5349)$\")"
      ],
      "execution_count": 0,
      "outputs": []
    },
    {
      "cell_type": "markdown",
      "metadata": {
        "id": "CaAVlxOsrLBu",
        "colab_type": "text"
      },
      "source": [
        "# Data Balance By 3 Way"
      ]
    },
    {
      "cell_type": "code",
      "metadata": {
        "id": "WSWG2T5J1JS2",
        "colab_type": "code",
        "colab": {}
      },
      "source": [
        "from imblearn.over_sampling import RandomOverSampler\n",
        "from imblearn.under_sampling import RandomUnderSampler"
      ],
      "execution_count": 0,
      "outputs": []
    },
    {
      "cell_type": "code",
      "metadata": {
        "id": "hi_ccPmI1c74",
        "colab_type": "code",
        "colab": {}
      },
      "source": [
        "#Random Under Sampling\n",
        "rus = RandomUnderSampler(random_state=0)\n",
        "rus.fit(X1, Y1)\n",
        "X, Y = rus.fit_resample(X1, Y1)"
      ],
      "execution_count": 0,
      "outputs": []
    },
    {
      "cell_type": "code",
      "metadata": {
        "id": "nbSB60tJ7j4R",
        "colab_type": "code",
        "colab": {}
      },
      "source": [
        "# ClusterCentroids\n",
        "from imblearn.under_sampling import (RandomUnderSampler, \n",
        "                                     ClusterCentroids,\n",
        "                                     TomekLinks,\n",
        "                                     NeighbourhoodCleaningRule,\n",
        "                                     NearMiss)\n",
        "sampler = ClusterCentroids()\n",
        "X,Y = sampler.fit_sample(X1, Y1)"
      ],
      "execution_count": 0,
      "outputs": []
    },
    {
      "cell_type": "code",
      "metadata": {
        "id": "xQ4nM6Oz9uhd",
        "colab_type": "code",
        "colab": {}
      },
      "source": [
        "#Ensemble\n",
        "from imblearn.ensemble import EasyEnsemble\n",
        "e = EasyEnsemble(random_state=0, n_subsets=10)\n",
        "e.fit(X1, Y1)\n",
        "X, Y = e.fit_sample(X1, Y1)\n",
        "\n",
        "colors = ['#ef8a62' if v == 0 else '#f7f7f7' if v == 1 else '#67a9cf' for v in Y[0, :]]\n",
        "plt.scatter(X[0, :, 0], X[0, :, 1], c=colors, linewidth=1, edgecolor='black')\n",
        "sns.despine()"
      ],
      "execution_count": 0,
      "outputs": []
    },
    {
      "cell_type": "code",
      "metadata": {
        "id": "29-fHSDo5osX",
        "colab_type": "code",
        "outputId": "4fa4b101-3aa8-4777-e0bb-2dc904b58ec4",
        "colab": {
          "base_uri": "https://localhost:8080/",
          "height": 54
        }
      },
      "source": [
        "print(X.shape)\n",
        "print(Y.shape)"
      ],
      "execution_count": 0,
      "outputs": [
        {
          "output_type": "stream",
          "text": [
            "(1446, 210)\n",
            "(1446,)\n"
          ],
          "name": "stdout"
        }
      ]
    },
    {
      "cell_type": "code",
      "metadata": {
        "id": "tniVP-3uw8aB",
        "colab_type": "code",
        "colab": {}
      },
      "source": [
        "# splitting the data into training and test sets (80:20)\n",
        "#from sklearn.cross_validation import train_test_split\n",
        "from sklearn.model_selection import train_test_split\n",
        "X_train,X_test,Y_train,Y_test = train_test_split(X,Y,test_size=0.1,random_state=10)"
      ],
      "execution_count": 0,
      "outputs": []
    },
    {
      "cell_type": "code",
      "metadata": {
        "id": "l3H98oucylxv",
        "colab_type": "code",
        "colab": {}
      },
      "source": [
        "from imblearn.over_sampling import SMOTE\n",
        "df = pd.read_csv('/content/drive/My Drive/Colab Notebooks/combined.csv')\n",
        "# Separate input features and target\n",
        "Y1 = df.Classs\n",
        "X1 = df.drop('Class', axis=1)\n",
        "\n",
        "# setting up testing and training sets\n",
        "X_train, X_test, Y_train, y_test = train_test_split(X1, Y1, test_size=0.25, random_state=27)\n",
        "\n",
        "sm = SMOTE(random_state=27, ratio=1.0)\n",
        "X_train, Y_train = sm.fit_sample(X_train, Y_train)"
      ],
      "execution_count": 0,
      "outputs": []
    },
    {
      "cell_type": "markdown",
      "metadata": {
        "id": "9PhQlHv4Fulh",
        "colab_type": "text"
      },
      "source": [
        "# **For SS sir idea**"
      ]
    },
    {
      "cell_type": "code",
      "metadata": {
        "id": "wNWLC18UFOPA",
        "colab_type": "code",
        "colab": {}
      },
      "source": [
        "#For SS sir idea\n",
        "#from sklearn.cross_validation import train_test_split\n",
        "from sklearn.model_selection import train_test_split\n",
        "X_train,X_test,Y_train,Y_test = train_test_split(X1,Y1,test_size=0.2,random_state=10)"
      ],
      "execution_count": 0,
      "outputs": []
    },
    {
      "cell_type": "code",
      "metadata": {
        "id": "u-nQhDc0xyvG",
        "colab_type": "code",
        "colab": {}
      },
      "source": [
        "# ClusterCentroids\n",
        "from imblearn.under_sampling import (RandomUnderSampler, \n",
        "                                     ClusterCentroids,\n",
        "                                     TomekLinks,\n",
        "                                     NeighbourhoodCleaningRule,\n",
        "                                     NearMiss)\n",
        "sampler = ClusterCentroids()\n",
        "X_train,Y_train = sampler.fit_sample(X_train1, Y_train1)"
      ],
      "execution_count": 0,
      "outputs": []
    },
    {
      "cell_type": "markdown",
      "metadata": {
        "id": "VQVsjhJUEx5l",
        "colab_type": "text"
      },
      "source": [
        "# **Training Start**"
      ]
    },
    {
      "cell_type": "code",
      "metadata": {
        "id": "nl8DSDQxxHx3",
        "colab_type": "code",
        "outputId": "efaeacf1-0698-4e89-c183-970867e9b6b1",
        "colab": {
          "base_uri": "https://localhost:8080/",
          "height": 85
        }
      },
      "source": [
        "#shape of train and test objects\n",
        "print(X_train.shape)\n",
        "print(X_test.shape)\n",
        "# shape of new y objects\n",
        "print(Y_train.shape)\n",
        "print(Y_test.shape)"
      ],
      "execution_count": 0,
      "outputs": [
        {
          "output_type": "stream",
          "text": [
            "(5454, 210)\n",
            "(1364, 210)\n",
            "(5454,)\n",
            "(1364,)\n"
          ],
          "name": "stdout"
        }
      ]
    },
    {
      "cell_type": "markdown",
      "metadata": {
        "id": "kCZJyZtkvnct",
        "colab_type": "text"
      },
      "source": [
        "# Logistic Regression"
      ]
    },
    {
      "cell_type": "code",
      "metadata": {
        "id": "1bMnPKBeu7l4",
        "colab_type": "code",
        "outputId": "ed8842d8-d29f-4275-fe19-a411d5a2281c",
        "colab": {
          "base_uri": "https://localhost:8080/",
          "height": 164
        }
      },
      "source": [
        "from sklearn.linear_model import LogisticRegression\n",
        "#from sklearn.cross_validation import KFold   #For K-fold cross validation\n",
        "lr = LogisticRegression(solver='liblinear').fit(X_train, Y_train)\n",
        " \n",
        "# Predict on training set\n",
        "lr_pred = lr.predict(X_test)\n",
        "\n",
        "# Checking accuracy\n",
        "print(\"Train Accuracy :: \", accuracy_score(Y_train,model.predict(X_train)))\n",
        "print(\"Test Accuracy  :: \", accuracy_score(Y_test, lr_pred))\n",
        "#from sklearn.metrics import classification_report, confusion_matrix\n",
        "cm1=confusion_matrix(Y_test, lr_pred)\n",
        "print(confusion_matrix(Y_test, lr_pred))\n",
        "#print(classification_report(Y_test, NBpred))\n",
        "total1=sum(sum(cm1))\n",
        "#####from confusion matrix calculate accuracy\n",
        "accuracy1=(cm1[0,0]+cm1[1,1])/total1\n",
        "print ('Accuracy : ', accuracy1)\n",
        "\n",
        "sensitivity1 = cm1[0,0]/(cm1[0,0]+cm1[0,1])\n",
        "print('Sensitivity : ', sensitivity1 )\n",
        "\n",
        "specificity1 = cm1[1,1]/(cm1[1,0]+cm1[1,1])\n",
        "print('Specificity : ', specificity1)\n",
        "\n",
        "from sklearn.metrics import matthews_corrcoef\n",
        "mcc1=matthews_corrcoef(Y_test, lr_pred)  \n",
        "print(\"MCC = \",mcc1)"
      ],
      "execution_count": 0,
      "outputs": [
        {
          "output_type": "stream",
          "text": [
            "Train Accuracy ::  0.8355855855855856\n",
            "Test Accuracy  ::  0.8319579894973743\n",
            "[[268 168]\n",
            " [ 56 841]]\n",
            "Accuracy :  0.8319579894973743\n",
            "Sensitivity :  0.6146788990825688\n",
            "Specificity :  0.9375696767001115\n",
            "MCC =  0.6040264860152442\n"
          ],
          "name": "stdout"
        }
      ]
    },
    {
      "cell_type": "markdown",
      "metadata": {
        "id": "YoK9vQFpngq_",
        "colab_type": "text"
      },
      "source": [
        "# **Naive Bayes**"
      ]
    },
    {
      "cell_type": "code",
      "metadata": {
        "id": "OO-DnpmUvdQK",
        "colab_type": "code",
        "outputId": "6c9c3bab-fa48-47a4-9828-e11009350043",
        "colab": {
          "base_uri": "https://localhost:8080/",
          "height": 164
        }
      },
      "source": [
        "#Naive-Bayes Model\n",
        "# Init the Gaussian Classifier\n",
        "model = GaussianNB()\n",
        "\n",
        "# Train the model \n",
        "model.fit(X_train, Y_train)\n",
        "\n",
        "# Predict Output \n",
        "NBpred = model.predict(X_test)\n",
        "\n",
        "print(\"Train Accuracy :: \", accuracy_score(Y_train,model.predict(X_train)))\n",
        "print(\"Test Accuracy  :: \", accuracy_score(Y_test, NBpred))\n",
        "#from sklearn.metrics import classification_report, confusion_matrix\n",
        "cm1=confusion_matrix(Y_test, NBpred)\n",
        "print(confusion_matrix(Y_test, NBpred))\n",
        "#print(classification_report(Y_test, NBpred))\n",
        "total1=sum(sum(cm1))\n",
        "#####from confusion matrix calculate accuracy\n",
        "accuracy1=(cm1[0,0]+cm1[1,1])/total1\n",
        "print ('Accuracy : ', accuracy1)\n",
        "\n",
        "sensitivity1 = cm1[0,0]/(cm1[0,0]+cm1[0,1])\n",
        "print('Sensitivity : ', sensitivity1 )\n",
        "\n",
        "specificity1 = cm1[1,1]/(cm1[1,0]+cm1[1,1])\n",
        "print('Specificity : ', specificity1)\n",
        "\n",
        "from sklearn.metrics import matthews_corrcoef\n",
        "mcc1=matthews_corrcoef(Y_test, NBpred)  \n",
        "print(\"MCC = \",mcc1)"
      ],
      "execution_count": 0,
      "outputs": [
        {
          "output_type": "stream",
          "text": [
            "Train Accuracy ::  0.7704579579579579\n",
            "Test Accuracy  ::  0.7726931732933233\n",
            "[[255 181]\n",
            " [122 775]]\n",
            "Accuracy :  0.7726931732933233\n",
            "Sensitivity :  0.5848623853211009\n",
            "Specificity :  0.8639910813823858\n",
            "MCC =  0.46756762101468324\n"
          ],
          "name": "stdout"
        }
      ]
    },
    {
      "cell_type": "markdown",
      "metadata": {
        "id": "RrHClNsPnoxC",
        "colab_type": "text"
      },
      "source": [
        "# **Decision** **Tree**"
      ]
    },
    {
      "cell_type": "code",
      "metadata": {
        "id": "B_sCuL2vFmMK",
        "colab_type": "code",
        "outputId": "68add1a3-0b66-4d43-96d8-4d63b11299e8",
        "colab": {
          "base_uri": "https://localhost:8080/",
          "height": 164
        }
      },
      "source": [
        "#Decision Tree\n",
        "from sklearn.tree import DecisionTreeClassifier\n",
        "classifier = DecisionTreeClassifier()\n",
        "classifier.fit(X_train, Y_train)\n",
        "\n",
        "Y_pred = classifier.predict(X_test)\n",
        "\n",
        "print(\"Train Accuracy :: \", accuracy_score(Y_train,classifier.predict(X_train)))\n",
        "print(\"Test Accuracy  :: \", accuracy_score(Y_test, Y_pred))\n",
        "#from sklearn.metrics import classification_report, confusion_matrix\n",
        "#print(confusion_matrix(Y_test, Y_pred))\n",
        "#print(classification_report(Y_test, Y_pred))\n",
        "cm1=confusion_matrix(Y_test, Y_pred)\n",
        "print(confusion_matrix(Y_test, Y_pred))\n",
        "#print(classification_report(Y_test, NBpred))\n",
        "total1=sum(sum(cm1))\n",
        "#####from confusion matrix calculate accuracy\n",
        "accuracy1=(cm1[0,0]+cm1[1,1])/total1\n",
        "print ('Accuracy : ', accuracy1)\n",
        "\n",
        "sensitivity1 = cm1[0,0]/(cm1[0,0]+cm1[0,1])\n",
        "print('Sensitivity : ', sensitivity1 )\n",
        "\n",
        "specificity1 = cm1[1,1]/(cm1[1,0]+cm1[1,1])\n",
        "print('Specificity : ', specificity1)\n",
        "from sklearn.metrics import matthews_corrcoef\n",
        "mcc2=matthews_corrcoef(Y_test, Y_pred)  \n",
        "print(\"MCC = \",mcc2)"
      ],
      "execution_count": 0,
      "outputs": [
        {
          "output_type": "stream",
          "text": [
            "Train Accuracy ::  1.0\n",
            "Test Accuracy  ::  0.8634658664666166\n",
            "[[328 108]\n",
            " [ 74 823]]\n",
            "Accuracy :  0.8634658664666166\n",
            "Sensitivity :  0.7522935779816514\n",
            "Specificity :  0.9175027870680045\n",
            "MCC =  0.6846906313518152\n"
          ],
          "name": "stdout"
        }
      ]
    },
    {
      "cell_type": "markdown",
      "metadata": {
        "id": "LteNNLuinvs0",
        "colab_type": "text"
      },
      "source": [
        "# **SVM**\n"
      ]
    },
    {
      "cell_type": "code",
      "metadata": {
        "id": "-aFWYmu58XFz",
        "colab_type": "code",
        "colab": {}
      },
      "source": [
        "#SVM\n",
        "from sklearn.svm import SVC\n",
        "svclassifier = SVC(kernel='rbf')\n",
        "svclassifier.fit(X_train, Y_train)\n",
        "\n",
        "SVM_pred = svclassifier.predict(X_test)\n",
        "\n",
        "print(\"Train Accuracy :: \", accuracy_score(Y_train,svclassifier.predict(X_train)))\n",
        "print(\"Test Accuracy  :: \", accuracy_score(Y_test, SVM_pred))\n",
        "#Independent\n",
        "IND_pred = svclassifier.predict(IND_X_test)\n",
        "print(\"Independent Test Accuracy  :: \", accuracy_score(IND_Y_test, IND_pred))\n",
        "\n",
        "cm1=confusion_matrix(Y_test, SVM_pred)\n",
        "print(confusion_matrix(Y_test, SVM_pred))\n",
        "#print(classification_report(Y_test, NBpred))\n",
        "total1=sum(sum(cm1))\n",
        "#####from confusion matrix calculate accuracy\n",
        "accuracy1=(cm1[0,0]+cm1[1,1])/total1\n",
        "print ('Accuracy : ', accuracy1)\n",
        "\n",
        "sensitivity1 = cm1[0,0]/(cm1[0,0]+cm1[0,1])\n",
        "print('Sensitivity : ', sensitivity1 )\n",
        "\n",
        "specificity1 = cm1[1,1]/(cm1[1,0]+cm1[1,1])\n",
        "print('Specificity : ', specificity1)\n",
        "from sklearn.metrics import matthews_corrcoef\n",
        "mcc3=matthews_corrcoef(Y_test, SVM_pred)  \n",
        "print(\"MCC = \",mcc3)"
      ],
      "execution_count": 0,
      "outputs": []
    },
    {
      "cell_type": "markdown",
      "metadata": {
        "id": "X4pxpT-Kn6kg",
        "colab_type": "text"
      },
      "source": [
        "# **Random Forest**"
      ]
    },
    {
      "cell_type": "code",
      "metadata": {
        "id": "5KvUycyncCdR",
        "colab_type": "code",
        "outputId": "27ae83ee-688b-4aad-9af6-58833223de6b",
        "colab": {
          "base_uri": "https://localhost:8080/",
          "height": 311
        }
      },
      "source": [
        "#Random Forest\n",
        "clf = RandomForestClassifier(n_estimators=20, max_depth=5,random_state=42)\n",
        "model=clf.fit(X_train, Y_train)\n",
        "print(\"Trained model :: \",model)\n",
        "predictions =model.predict(X_test)\n",
        " \n",
        "print(\"Train Accuracy :: \", accuracy_score(Y_train,model.predict(X_train)))\n",
        "print(\"Test Accuracy  :: \", accuracy_score(Y_test, predictions))\n",
        "#Independent\n",
        "IND_pred = model.predict(IND_X_test)\n",
        "print(\"Independent Test Accuracy  :: \", accuracy_score(IND_Y_test, IND_pred))\n",
        "#print(\" Confusion matrix \", confusion_matrix(Y_test, predictions))  \n",
        "cm1=confusion_matrix(Y_test, predictions)\n",
        "print(confusion_matrix(Y_test, predictions))\n",
        "#print(classification_report(Y_test, NBpred))\n",
        "total1=sum(sum(cm1))\n",
        "#####from confusion matrix calculate accuracy\n",
        "accuracy1=(cm1[0,0]+cm1[1,1])/total1\n",
        "print ('Accuracy : ', accuracy1)\n",
        "\n",
        "sensitivity1 = cm1[0,0]/(cm1[0,0]+cm1[0,1])\n",
        "print('Sensitivity : ', sensitivity1 )\n",
        "\n",
        "specificity1 = cm1[1,1]/(cm1[1,0]+cm1[1,1])\n",
        "print('Specificity : ', specificity1)\n",
        "from sklearn.metrics import matthews_corrcoef\n",
        "mcc4=matthews_corrcoef(Y_test, predictions)  \n",
        "print(\"MCC = \",mcc4)"
      ],
      "execution_count": 0,
      "outputs": [
        {
          "output_type": "stream",
          "text": [
            "Trained model ::  RandomForestClassifier(bootstrap=True, class_weight=None, criterion='gini',\n",
            "                       max_depth=5, max_features='auto', max_leaf_nodes=None,\n",
            "                       min_impurity_decrease=0.0, min_impurity_split=None,\n",
            "                       min_samples_leaf=1, min_samples_split=2,\n",
            "                       min_weight_fraction_leaf=0.0, n_estimators=20,\n",
            "                       n_jobs=None, oob_score=False, random_state=42, verbose=0,\n",
            "                       warm_start=False)\n",
            "Train Accuracy ::  0.753780718336484\n",
            "Test Accuracy  ::  0.7754716981132076\n",
            "Independent Test Accuracy  ::  0.6985294117647058\n",
            "[[401   0]\n",
            " [119  10]]\n",
            "Accuracy :  0.7754716981132076\n",
            "Sensitivity :  1.0\n",
            "Specificity :  0.07751937984496124\n",
            "MCC =  0.2444981961465213\n"
          ],
          "name": "stdout"
        }
      ]
    },
    {
      "cell_type": "markdown",
      "metadata": {
        "id": "sQMp3BmOoFaU",
        "colab_type": "text"
      },
      "source": [
        "# **Ada-Boost**"
      ]
    },
    {
      "cell_type": "code",
      "metadata": {
        "id": "YSHDqsP5fudj",
        "colab_type": "code",
        "outputId": "a60f66c5-f04a-4d89-9362-cb1c19487a15",
        "colab": {
          "base_uri": "https://localhost:8080/",
          "height": 256
        }
      },
      "source": [
        "#Ada-Boost\n",
        "from sklearn.ensemble import AdaBoostClassifier\n",
        "clf = AdaBoostClassifier(n_estimators=100, random_state=0)\n",
        "Model=clf.fit(X_train,Y_train)  \n",
        "#AdaBoostClassifier(algorithm='SAMME.R', base_estimator=None,\n",
        "     #   learning_rate=1.0, n_estimators=100, random_state=0)\n",
        "print(\"Trained model :: \",Model)\n",
        "Ada_pred =Model.predict(X_test)\n",
        "\n",
        "print(\"Train Accuracy :: \", accuracy_score(Y_train,Model.predict(X_train)))\n",
        "print(\"Test Accuracy  :: \", accuracy_score(Y_test, Ada_pred))\n",
        "#Independent\n",
        "IND_pred = Model.predict(IND_X_test)\n",
        "print(\"Independent Test Accuracy  :: \", accuracy_score(IND_Y_test, IND_pred))\n",
        "\n",
        "print(\" Confusion matrix \", confusion_matrix(Y_test, Ada_pred)) \n",
        "cm1=confusion_matrix(Y_test, Ada_pred)\n",
        "print(confusion_matrix(Y_test, Ada_pred))\n",
        "#print(classification_report(Y_test, NBpred))\n",
        "total1=sum(sum(cm1))\n",
        "#####from confusion matrix calculate accuracy\n",
        "accuracy1=(cm1[0,0]+cm1[1,1])/total1\n",
        "print ('Accuracy : ', accuracy1)\n",
        "\n",
        "sensitivity1 = cm1[0,0]/(cm1[0,0]+cm1[0,1])\n",
        "print('Sensitivity : ', sensitivity1 )\n",
        "\n",
        "specificity1 = cm1[1,1]/(cm1[1,0]+cm1[1,1])\n",
        "print('Specificity : ', specificity1)\n",
        "from sklearn.metrics import matthews_corrcoef\n",
        "mcc5=matthews_corrcoef(Y_test, Ada_pred)  \n",
        "print(\"MCC = \",mcc5)"
      ],
      "execution_count": 0,
      "outputs": [
        {
          "output_type": "stream",
          "text": [
            "Trained model ::  AdaBoostClassifier(algorithm='SAMME.R', base_estimator=None, learning_rate=1.0,\n",
            "                   n_estimators=100, random_state=0)\n",
            "Train Accuracy ::  0.8322306238185255\n",
            "Test Accuracy  ::  0.7566037735849057\n",
            "Independent Test Accuracy  ::  0.7647058823529411\n",
            " Confusion matrix  [[357  44]\n",
            " [ 85  44]]\n",
            "[[357  44]\n",
            " [ 85  44]]\n",
            "Accuracy :  0.7566037735849057\n",
            "Sensitivity :  0.8902743142144638\n",
            "Specificity :  0.34108527131782945\n",
            "MCC =  0.26680997878484075\n"
          ],
          "name": "stdout"
        }
      ]
    },
    {
      "cell_type": "markdown",
      "metadata": {
        "id": "gB1_u7D9oI7P",
        "colab_type": "text"
      },
      "source": [
        "# **KNN**"
      ]
    },
    {
      "cell_type": "code",
      "metadata": {
        "id": "65AUYW8anApD",
        "colab_type": "code",
        "colab": {}
      },
      "source": [
        "#KNN\n",
        "from sklearn.neighbors import KNeighborsClassifier\n",
        "#import metrics model to check the accuracy \n",
        "from sklearn import metrics\n",
        "#Try running from k=1 through 25 and record testing accuracy\n",
        "k_range = range(1,26)\n",
        "scores = {}\n",
        "scores_list = []\n",
        "for k in k_range:\n",
        "        knn = KNeighborsClassifier(n_neighbors=k)\n",
        "        knn.fit(X_train,Y_train)\n",
        "        Y_pred=knn.predict(X_test)\n",
        "        scores[k] = metrics.accuracy_score(Y_test,Y_pred)\n",
        "        scores_list.append(metrics.accuracy_score(Y_test,Y_pred))"
      ],
      "execution_count": 0,
      "outputs": []
    },
    {
      "cell_type": "code",
      "metadata": {
        "id": "fYJqAul3nJE4",
        "colab_type": "code",
        "outputId": "a6159534-4687-4008-aed6-4c7fd5c5d56e",
        "colab": {
          "base_uri": "https://localhost:8080/",
          "height": 442
        }
      },
      "source": [
        "scores"
      ],
      "execution_count": 0,
      "outputs": [
        {
          "output_type": "execute_result",
          "data": {
            "text/plain": [
              "{1: 0.9802052785923754,\n",
              " 2: 0.9831378299120235,\n",
              " 3: 0.9464809384164223,\n",
              " 4: 0.9516129032258065,\n",
              " 5: 0.8958944281524927,\n",
              " 6: 0.908357771260997,\n",
              " 7: 0.8621700879765396,\n",
              " 8: 0.8695014662756598,\n",
              " 9: 0.8306451612903226,\n",
              " 10: 0.8453079178885631,\n",
              " 11: 0.8211143695014663,\n",
              " 12: 0.8343108504398827,\n",
              " 13: 0.8005865102639296,\n",
              " 14: 0.8101173020527859,\n",
              " 15: 0.7785923753665689,\n",
              " 16: 0.7917888563049853,\n",
              " 17: 0.7697947214076246,\n",
              " 18: 0.783724340175953,\n",
              " 19: 0.7602639296187683,\n",
              " 20: 0.7705278592375366,\n",
              " 21: 0.7543988269794721,\n",
              " 22: 0.7609970674486803,\n",
              " 23: 0.7426686217008798,\n",
              " 24: 0.7529325513196481,\n",
              " 25: 0.7382697947214076}"
            ]
          },
          "metadata": {
            "tags": []
          },
          "execution_count": 21
        }
      ]
    },
    {
      "cell_type": "code",
      "metadata": {
        "id": "OFgF2WC5qq9A",
        "colab_type": "code",
        "outputId": "836c5a6f-c6f8-48d5-ec3b-b7ca23aae28a",
        "colab": {
          "base_uri": "https://localhost:8080/",
          "height": 34
        }
      },
      "source": [
        "%matplotlib inline\n",
        "import matplotlib.pyplot as plt\n",
        "\n",
        "#plot the relationship between K and the testing accuracy\n",
        "plt.plot(k_range,scores_list)\n",
        "plt.xlabel('Value of K for KNN')\n",
        "plt.ylabel('Testing Accuracy')"
      ],
      "execution_count": 0,
      "outputs": [
        {
          "output_type": "execute_result",
          "data": {
            "text/plain": [
              "Text(0, 0.5, 'Testing Accuracy')"
            ]
          },
          "metadata": {
            "tags": []
          },
          "execution_count": 22
        },
        {
          "output_type": "display_data",
          "data": {
            "image/png": "[encoded data removed]",
            "text/plain": [
              "<Figure size 432x288 with 1 Axes>"
            ]
          },
          "metadata": {
            "tags": []
          }
        }
      ]
    },
    {
      "cell_type": "code",
      "metadata": {
        "id": "UpUkxgr9nLwl",
        "colab_type": "code",
        "colab": {}
      },
      "source": [
        "knn = KNeighborsClassifier(n_neighbors=18)\n",
        "knn.fit(X,Y)\n",
        "KNNpred = knn.predict(X_test)"
      ],
      "execution_count": 0,
      "outputs": []
    },
    {
      "cell_type": "code",
      "metadata": {
        "id": "0_gVUsMvnZkb",
        "colab_type": "code",
        "colab": {}
      },
      "source": [
        "print(\"Train Accuracy :: \", accuracy_score(Y_train,knn.predict(X_train)))\n",
        "print(\"Test Accuracy  :: \", accuracy_score(Y_test, KNNpred))\n",
        "#from sklearn.metrics import classification_report, confusion_matrix\n",
        "cm1=confusion_matrix(Y_test, KNNpred)\n",
        "print(confusion_matrix(Y_test, KNNpred))\n",
        "#print(classification_report(Y_test, NBpred))\n",
        "total1=sum(sum(cm1))\n",
        "#####from confusion matrix calculate accuracy\n",
        "accuracy1=(cm1[0,0]+cm1[1,1])/total1\n",
        "print ('Accuracy : ', accuracy1)\n",
        "\n",
        "sensitivity1 = cm1[0,0]/(cm1[0,0]+cm1[0,1])\n",
        "print('Sensitivity : ', sensitivity1 )\n",
        "\n",
        "specificity1 = cm1[1,1]/(cm1[1,0]+cm1[1,1])\n",
        "print('Specificity : ', specificity1)\n",
        "\n",
        "from sklearn.metrics import matthews_corrcoef\n",
        "mcc1=matthews_corrcoef(Y_test, KNNpred)  \n",
        "print(\"MCC = \",mcc1)"
      ],
      "execution_count": 0,
      "outputs": []
    },
    {
      "cell_type": "code",
      "metadata": {
        "id": "EhrPZuZpFGvj",
        "colab_type": "code",
        "colab": {}
      },
      "source": [
        "import numpy as np\n",
        "from sklearn import svm\n",
        "from sklearn.svm import SVC\n",
        "from sklearn.datasets import make_blobs\n",
        "from sklearn.model_selection import cross_val_predict\n",
        "from sklearn.metrics import confusion_matrix\n",
        "from sklearn.metrics import accuracy_score\n",
        "\n",
        "svclassifier = SVC(kernel='rbf')\n",
        "svclassifier.fit(X_train, Y_train)\n",
        "\n",
        "K = 10\n",
        "acc = -7\n",
        "Sn = -7\n",
        "Sp = -7\n",
        "C = -7\n",
        "sigma = -7\n",
        "error = 77777777\n",
        "\n",
        "for p in range(-8, 9):\n",
        "    for q in range(-8, 9):\n",
        "        svm = SVC(C=2**p, gamma=2**q)\n",
        "        y_pred = cross_val_predict(svm, X_test, Y_test, cv=K)\n",
        "            \n",
        "        cm = confusion_matrix(Y_test, y_pred)\n",
        "        pos = cm[1,1] / (cm[1,1] + cm[1,0])\n",
        "        neg = cm[0,0] / (cm[0,0] + cm[0,1])\n",
        "            \n",
        "        err = abs(pos-neg)\n",
        "            \n",
        "        if (error>err):\n",
        "            error = err\n",
        "            C = 2**p\n",
        "            sigma = 2**q\n",
        "            Sn = pos\n",
        "            Sp = neg\n",
        "            acc = accuracy_score(Y_test, y_pred)\n",
        "            print(acc)"
      ],
      "execution_count": 0,
      "outputs": []
    },
    {
      "cell_type": "markdown",
      "metadata": {
        "id": "pkjj6DvoPhJW",
        "colab_type": "text"
      },
      "source": [
        "# Bagging"
      ]
    },
    {
      "cell_type": "code",
      "metadata": {
        "id": "PLPDenkYNmI8",
        "colab_type": "code",
        "colab": {}
      },
      "source": [
        ">>> from imblearn.ensemble import BalancedBaggingClassifier\n",
        ">>> bbc = BalancedBaggingClassifier(base_estimator=DecisionTreeClassifier(),\n",
        "...                                 sampling_strategy='auto',\n",
        "...                                 replacement=False,\n",
        "...                                 random_state=0)\n",
        ">>> bbc.fit(X_train, Y_train)\n",
        "Bagpred = bbc.predict(X_test)"
      ],
      "execution_count": 0,
      "outputs": []
    },
    {
      "cell_type": "code",
      "metadata": {
        "id": "ZuXSfFYtOIJQ",
        "colab_type": "code",
        "outputId": "aa46f3f4-4bec-47ac-8c99-ffeda71ac2dc",
        "colab": {
          "base_uri": "https://localhost:8080/",
          "height": 182
        }
      },
      "source": [
        "print(\"Train Accuracy :: \", accuracy_score(Y_train,bbc.predict(X_train)))\n",
        "print(\"Test Accuracy  :: \", accuracy_score(Y_test, Bagpred))\n",
        "\n",
        "#Independent\n",
        "IND_pred = bbc.predict(IND_X_test)\n",
        "print(\"Independent Test Accuracy  :: \", accuracy_score(IND_Y_test, IND_pred))\n",
        "#from sklearn.metrics import classification_report, confusion_matrix\n",
        "cm1=confusion_matrix(Y_test, Bagpred)\n",
        "print(confusion_matrix(Y_test, Bagpred))\n",
        "#print(classification_report(Y_test, NBpred))\n",
        "total1=sum(sum(cm1))\n",
        "#####from confusion matrix calculate accuracy\n",
        "accuracy1=(cm1[0,0]+cm1[1,1])/total1\n",
        "print ('Accuracy : ', accuracy1)\n",
        "\n",
        "sensitivity1 = cm1[0,0]/(cm1[0,0]+cm1[0,1])\n",
        "print('Sensitivity : ', sensitivity1 )\n",
        "\n",
        "specificity1 = cm1[1,1]/(cm1[1,0]+cm1[1,1])\n",
        "print('Specificity : ', specificity1)\n",
        "\n",
        "from sklearn.metrics import matthews_corrcoef\n",
        "mcc1=matthews_corrcoef(Y_test, Bagpred)  \n",
        "print(\"MCC = \",mcc1)"
      ],
      "execution_count": 0,
      "outputs": [
        {
          "output_type": "stream",
          "text": [
            "Train Accuracy ::  0.9508506616257089\n",
            "Test Accuracy  ::  0.7113207547169811\n",
            "Independent Test Accuracy  ::  0.8308823529411765\n",
            "[[327  74]\n",
            " [ 79  50]]\n",
            "Accuracy :  0.7113207547169811\n",
            "Sensitivity :  0.8154613466334164\n",
            "Specificity :  0.3875968992248062\n",
            "MCC =  0.2058324352213182\n"
          ],
          "name": "stdout"
        }
      ]
    },
    {
      "cell_type": "markdown",
      "metadata": {
        "id": "F-TiUqmIPmYQ",
        "colab_type": "text"
      },
      "source": [
        "# Balanced Random Forest"
      ]
    },
    {
      "cell_type": "code",
      "metadata": {
        "id": "ttHYdfSnNzb6",
        "colab_type": "code",
        "colab": {}
      },
      "source": [
        ">>> from imblearn.ensemble import BalancedRandomForestClassifier\n",
        ">>> brf = BalancedRandomForestClassifier(n_estimators=100, random_state=0)\n",
        ">>> brf.fit(X_train, Y_train) \n",
        "brf_pred=brf.predict(X_test)"
      ],
      "execution_count": 0,
      "outputs": []
    },
    {
      "cell_type": "code",
      "metadata": {
        "id": "EN4E64LiPvVh",
        "colab_type": "code",
        "outputId": "1261ac39-8f97-4a16-b087-1a486b87ec2a",
        "colab": {
          "base_uri": "https://localhost:8080/",
          "height": 164
        }
      },
      "source": [
        "print(\"Train Accuracy :: \", accuracy_score(Y_train,brf.predict(X_train)))\n",
        "print(\"Test Accuracy  :: \", accuracy_score(Y_test, brf_pred))\n",
        "#from sklearn.metrics import classification_report, confusion_matrix\n",
        "cm1=confusion_matrix(Y_test, brf_pred)\n",
        "print(confusion_matrix(Y_test, brf_pred))\n",
        "#print(classification_report(Y_test, brf_pred))\n",
        "total1=sum(sum(cm1))\n",
        "#####from confusion matrix calculate accuracy\n",
        "accuracy1=(cm1[0,0]+cm1[1,1])/total1\n",
        "print ('Accuracy : ', accuracy1)\n",
        "\n",
        "sensitivity1 = cm1[0,0]/(cm1[0,0]+cm1[0,1])\n",
        "print('Sensitivity : ', sensitivity1 )\n",
        "\n",
        "specificity1 = cm1[1,1]/(cm1[1,0]+cm1[1,1])\n",
        "print('Specificity : ', specificity1)\n",
        "\n",
        "from sklearn.metrics import matthews_corrcoef\n",
        "mcc1=matthews_corrcoef(Y_test, brf_pred)  \n",
        "print(\"MCC = \",mcc1)"
      ],
      "execution_count": 0,
      "outputs": [
        {
          "output_type": "stream",
          "text": [
            "Train Accuracy ::  0.9253308128544423\n",
            "Test Accuracy  ::  0.6566037735849056\n",
            "[[258 143]\n",
            " [ 39  90]]\n",
            "Accuracy :  0.6566037735849056\n",
            "Sensitivity :  0.6433915211970075\n",
            "Specificity :  0.6976744186046512\n",
            "MCC =  0.294882641007345\n"
          ],
          "name": "stdout"
        }
      ]
    },
    {
      "cell_type": "markdown",
      "metadata": {
        "id": "cUiOcTmTSEXl",
        "colab_type": "text"
      },
      "source": [
        "# Boosting"
      ]
    },
    {
      "cell_type": "code",
      "metadata": {
        "id": "NQEX3YjlQ5u2",
        "colab_type": "code",
        "colab": {}
      },
      "source": [
        ">>> from imblearn.ensemble import RUSBoostClassifier\n",
        ">>> rusboost = RUSBoostClassifier(n_estimators=200, algorithm='SAMME.R', random_state=0)\n",
        ">>> rusboost.fit(X_train, Y_train)  \n",
        ">>> Y_pred = rusboost.predict(X_test)"
      ],
      "execution_count": 0,
      "outputs": []
    },
    {
      "cell_type": "code",
      "metadata": {
        "id": "NSBTsu1FRDyB",
        "colab_type": "code",
        "colab": {}
      },
      "source": [
        "print(\"Train Accuracy :: \", accuracy_score(Y_train,rusboost.predict(X_train)))\n",
        "print(\"Test Accuracy  :: \", accuracy_score(Y_test, Y_pred))\n",
        "\n",
        "#Independent\n",
        "IND_pred = rusboost.predict(IND_X_test)\n",
        "print(\"Independent Test Accuracy  :: \", accuracy_score(IND_Y_test, IND_pred))\n",
        "\n",
        "#from sklearn.metrics import classification_report, confusion_matrix\n",
        "#print(confusion_matrix(Y_test, Y_pred))\n",
        "#print(classification_report(Y_test, Y_pred))\n",
        "cm1=confusion_matrix(Y_test, Y_pred)\n",
        "print(confusion_matrix(Y_test, Y_pred))\n",
        "#print(classification_report(Y_test, NBpred))\n",
        "total1=sum(sum(cm1))\n",
        "#####from confusion matrix calculate accuracy\n",
        "accuracy1=(cm1[0,0]+cm1[1,1])/total1\n",
        "print ('Accuracy : ', accuracy1)\n",
        "\n",
        "sensitivity1 = cm1[0,0]/(cm1[0,0]+cm1[0,1])\n",
        "print('Sensitivity : ', sensitivity1 )\n",
        "\n",
        "specificity1 = cm1[1,1]/(cm1[1,0]+cm1[1,1])\n",
        "print('Specificity : ', specificity1)\n",
        "from sklearn.metrics import matthews_corrcoef\n",
        "mcc2=matthews_corrcoef(Y_test, Y_pred)  \n",
        "print(\"MCC = \",mcc2)"
      ],
      "execution_count": 0,
      "outputs": []
    }
  ]
}