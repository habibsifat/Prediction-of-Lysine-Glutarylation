{
  "nbformat": 4,
  "nbformat_minor": 0,
  "metadata": {
    "colab": {
      "name": "KNN_Glutarylation.ipynb",
      "provenance": [],
      "collapsed_sections": [],
      "include_colab_link": true
    },
    "kernelspec": {
      "name": "python3",
      "display_name": "Python 3"
    }
  },
  "cells": [
    {
      "cell_type": "markdown",
      "metadata": {
        "id": "view-in-github",
        "colab_type": "text"
      },
      "source": [
        "<a href=\"https://colab.research.google.com/github/habibsifat/Prediction-of-Lysine-Glutarylation/blob/master/KNN_Glutarylation.ipynb\" target=\"_parent\"><img src=\"https://colab.research.google.com/assets/colab-badge.svg\" alt=\"Open In Colab\"/></a>"
      ]
    },
    {
      "cell_type": "code",
      "metadata": {
        "id": "8_7Xkvjwb4rD",
        "colab_type": "code",
        "colab": {}
      },
      "source": [
        "from google.colab import drive\n",
        "drive.mount('/content/drive')"
      ],
      "execution_count": 0,
      "outputs": []
    },
    {
      "cell_type": "code",
      "metadata": {
        "id": "2aO9UWUEZGXx",
        "colab_type": "code",
        "colab": {}
      },
      "source": [
        "# Import packages\n",
        "from sklearn.naive_bayes import GaussianNB\n",
        "from sklearn.model_selection import train_test_split\n",
        "from sklearn.metrics import confusion_matrix\n",
        "import numpy as np\n",
        "import pandas as pd\n",
        "import matplotlib.pyplot as plt\n",
        "import seaborn as sns; sns.set()\n",
        "import numpy\n",
        "import pandas as pd\n",
        "from sklearn.model_selection import train_test_split\n",
        "from sklearn.ensemble import RandomForestClassifier\n",
        "from sklearn.metrics import accuracy_score\n",
        "from sklearn.metrics import confusion_matrix"
      ],
      "execution_count": 0,
      "outputs": []
    },
    {
      "cell_type": "code",
      "metadata": {
        "id": "k3BNHQ3qTtUa",
        "colab_type": "code",
        "colab": {}
      },
      "source": [
        "import numpy\n",
        "numpy.random.seed(2)\n",
        "dataset = numpy.loadtxt(\"/content/drive/My Drive/Colab Notebooks/Glutarylation(5).csv\", delimiter=\",\")"
      ],
      "execution_count": 0,
      "outputs": []
    },
    {
      "cell_type": "code",
      "metadata": {
        "id": "pS-OLONgUZrY",
        "colab_type": "code",
        "colab": {}
      },
      "source": [
        "# split into input (X) and output (Y) variables, splitting csv data\n",
        "X = dataset[:,0:210]\n",
        "Y = dataset[:,210]"
      ],
      "execution_count": 0,
      "outputs": []
    },
    {
      "cell_type": "code",
      "metadata": {
        "id": "3mup4mCzUlHs",
        "colab_type": "code",
        "colab": {}
      },
      "source": [
        "print(dataset.shape)\n",
        "print(X.shape)\n",
        "print(Y.shape)"
      ],
      "execution_count": 0,
      "outputs": []
    },
    {
      "cell_type": "code",
      "metadata": {
        "id": "UdGWs_xSU1Zc",
        "colab_type": "code",
        "colab": {}
      },
      "source": [
        "# splitting the data into training and test sets (80:20)\n",
        "#from sklearn.cross_validation import train_test_split\n",
        "from sklearn.model_selection import train_test_split\n",
        "X_train1,X_test,Y_train1,Y_test = train_test_split(X,Y,test_size=0.1,random_state=10)"
      ],
      "execution_count": 0,
      "outputs": []
    },
    {
      "cell_type": "code",
      "metadata": {
        "id": "rX_iECd_VA9C",
        "colab_type": "code",
        "outputId": "b6b66512-c2a0-4a15-861d-aca2e227addf",
        "colab": {
          "base_uri": "https://localhost:8080/",
          "height": 90
        }
      },
      "source": [
        "#shape of train and test objects\n",
        "print(X_train1.shape)\n",
        "print(X_test.shape)\n",
        "# shape of new y objects\n",
        "print(Y_train1.shape)\n",
        "print(Y_test.shape)"
      ],
      "execution_count": 0,
      "outputs": [
        {
          "output_type": "stream",
          "text": [
            "(4892, 210)\n",
            "(544, 210)\n",
            "(4892,)\n",
            "(544,)\n"
          ],
          "name": "stdout"
        }
      ]
    },
    {
      "cell_type": "code",
      "metadata": {
        "id": "RqtSAh1_tzk4",
        "colab_type": "code",
        "colab": {}
      },
      "source": [
        "# ClusterCentroids\n",
        "from imblearn.under_sampling import (RandomUnderSampler, \n",
        "                                     ClusterCentroids,\n",
        "                                     TomekLinks,\n",
        "                                     NeighbourhoodCleaningRule,\n",
        "                                     NearMiss)\n",
        "sampler = ClusterCentroids()\n",
        "X_train,Y_train = sampler.fit_sample(X_train1, Y_train1)"
      ],
      "execution_count": 0,
      "outputs": []
    },
    {
      "cell_type": "code",
      "metadata": {
        "id": "asWl546kVVSn",
        "colab_type": "code",
        "colab": {}
      },
      "source": [
        "#import the KNeighborsClassifier class from sklearn\n",
        "from sklearn.neighbors import KNeighborsClassifier\n",
        "\n",
        "#import metrics model to check the accuracy \n",
        "from sklearn import metrics\n",
        "#Try running from k=1 through 25 and record testing accuracy\n",
        "k_range = range(1,26)\n",
        "scores = {}\n",
        "scores_list = []\n",
        "for k in k_range:\n",
        "        knn = KNeighborsClassifier(n_neighbors=k)\n",
        "        knn.fit(X_train,Y_train)\n",
        "        Y_pred=knn.predict(X_test)\n",
        "        scores[k] = metrics.accuracy_score(Y_test,Y_pred)\n",
        "        scores_list.append(metrics.accuracy_score(Y_test,Y_pred))"
      ],
      "execution_count": 0,
      "outputs": []
    },
    {
      "cell_type": "code",
      "metadata": {
        "id": "rj0ClXnBVtzP",
        "colab_type": "code",
        "colab": {}
      },
      "source": [
        "scores"
      ],
      "execution_count": 0,
      "outputs": []
    },
    {
      "cell_type": "code",
      "metadata": {
        "id": "aueCr6IBWK5I",
        "colab_type": "code",
        "colab": {}
      },
      "source": [
        "%matplotlib inline\n",
        "import matplotlib.pyplot as plt\n",
        "\n",
        "#plot the relationship between K and the testing accuracy\n",
        "plt.plot(k_range,scores_list)\n",
        "plt.xlabel('Value of K for KNN')\n",
        "plt.ylabel('Testing Accuracy')"
      ],
      "execution_count": 0,
      "outputs": []
    },
    {
      "cell_type": "code",
      "metadata": {
        "id": "4Dq8LJkxWZb0",
        "colab_type": "code",
        "colab": {}
      },
      "source": [
        "knn = KNeighborsClassifier(n_neighbors=5)\n",
        "knn.fit(X,Y)"
      ],
      "execution_count": 0,
      "outputs": []
    },
    {
      "cell_type": "code",
      "metadata": {
        "id": "QUfXQR6jYupT",
        "colab_type": "code",
        "colab": {}
      },
      "source": [
        "KNNpred = knn.predict(X_test)"
      ],
      "execution_count": 0,
      "outputs": []
    },
    {
      "cell_type": "code",
      "metadata": {
        "id": "benPHAUQWkx0",
        "colab_type": "code",
        "outputId": "bfc7c029-7162-4d1d-e8db-c58893b28e43",
        "colab": {
          "base_uri": "https://localhost:8080/",
          "height": 164
        }
      },
      "source": [
        "print(\"Train Accuracy :: \", accuracy_score(Y_train,knn.predict(X_train)))\n",
        "print(\"Test Accuracy  :: \", accuracy_score(Y_test, KNNpred))\n",
        "#from sklearn.metrics import classification_report, confusion_matrix\n",
        "cm1=confusion_matrix(Y_test, KNNpred)\n",
        "print(confusion_matrix(Y_test, KNNpred))\n",
        "#print(classification_report(Y_test, NBpred))\n",
        "total1=sum(sum(cm1))\n",
        "#####from confusion matrix calculate accuracy\n",
        "accuracy1=(cm1[0,0]+cm1[1,1])/total1\n",
        "print ('Accuracy : ', accuracy1)\n",
        "\n",
        "sensitivity1 = cm1[0,0]/(cm1[0,0]+cm1[0,1])\n",
        "print('Sensitivity : ', sensitivity1 )\n",
        "\n",
        "specificity1 = cm1[1,1]/(cm1[1,0]+cm1[1,1])\n",
        "print('Specificity : ', specificity1)\n",
        "\n",
        "from sklearn.metrics import matthews_corrcoef\n",
        "mcc1=matthews_corrcoef(Y_test, KNNpred)  \n",
        "print(\"MCC = \",mcc1)"
      ],
      "execution_count": 0,
      "outputs": [
        {
          "output_type": "stream",
          "text": [
            "Train Accuracy ::  0.5943251533742331\n",
            "Test Accuracy  ::  0.8860294117647058\n",
            "[[472   9]\n",
            " [ 53  10]]\n",
            "Accuracy :  0.8860294117647058\n",
            "Sensitivity :  0.9812889812889813\n",
            "Specificity :  0.15873015873015872\n",
            "MCC =  0.24404716482016958\n"
          ],
          "name": "stdout"
        }
      ]
    },
    {
      "cell_type": "code",
      "metadata": {
        "id": "Ts3jIQ9mY7-8",
        "colab_type": "code",
        "colab": {}
      },
      "source": [
        ""
      ],
      "execution_count": 0,
      "outputs": []
    }
  ]
}